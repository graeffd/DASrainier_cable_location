{
 "cells": [
  {
   "cell_type": "markdown",
   "id": "1592c4d5-fc2e-41bf-94b1-4674fa958405",
   "metadata": {},
   "source": [
    "# Decimate data and save as miniSEED\n",
    "This decimates the 200Hz DAS data from Paradise (Mt Rainier) and saves it as miniSEED. The decimation is not done rigorously with previous filtering, but it's good enough to pick the signal from cars on the road."
   ]
  },
  {
   "cell_type": "code",
   "execution_count": 46,
   "id": "2d189074-b570-4c02-9f4d-46ba2bed2a6b",
   "metadata": {
    "tags": []
   },
   "outputs": [],
   "source": [
    "# load modules\n",
    "import glob\n",
    "import numpy as np\n",
    "import h5py\n",
    "import os\n",
    "import datetime\n",
    "import obspy"
   ]
  },
  {
   "cell_type": "markdown",
   "id": "616bf9fb-3c79-49f6-840a-2cd76023d54c",
   "metadata": {},
   "source": [
    "## Read and decimate raw hdf5 data\n",
    "The data is not provided in the repository, where this notebook is located. To reproduce the analysis, recorded files from 2023-11-24 17:20:00 UTC until 2023-11-24 17:59:00 UTC are needed."
   ]
  },
  {
   "cell_type": "code",
   "execution_count": 47,
   "id": "916d9882-b38d-44d5-9cb4-4e94fae9e32c",
   "metadata": {
    "tags": []
   },
   "outputs": [],
   "source": [
    "# Get file paths\n",
    "files = glob.glob('../data/recordings/raw_data/*.h5')\n",
    "files.sort()"
   ]
  },
  {
   "cell_type": "code",
   "execution_count": 48,
   "id": "1a4718a1-f806-4b19-8d96-b83fe33e1a8a",
   "metadata": {
    "tags": []
   },
   "outputs": [],
   "source": [
    "# Set decimation factor\n",
    "dec_factor = 20  # 200Hz -> 10Hz"
   ]
  },
  {
   "cell_type": "code",
   "execution_count": 49,
   "id": "28ef83e7-6aa5-47b0-8bd2-bdbcade95268",
   "metadata": {
    "tags": []
   },
   "outputs": [
    {
     "name": "stdout",
     "output_type": "stream",
     "text": [
      "File 40 of 40\r"
     ]
    }
   ],
   "source": [
    "# Read data and decimate\n",
    "data_list = []\n",
    "time_list = []\n",
    "\n",
    "for i,file in enumerate(files):\n",
    "    print(\"File {} of {}\".format(i+1, len(files)), end=\"\\r\")\n",
    "\n",
    "    # Read the data (really simple and stupid)\n",
    "    f = h5py.File(file,'r')\n",
    "    time_read = np.array(f['Acquisition/Raw[0]/RawDataTime'], dtype='int64')\n",
    "    data_read = np.array(f['Acquisition/Raw[0]/RawData'], dtype='float32')   \n",
    "    attrs_read = dict(f['Acquisition'].attrs)\n",
    "    f.close()\n",
    "    \n",
    "    # Decimate\n",
    "    data_list.append(data_read[::dec_factor,:])\n",
    "    time_list.append(time_read[::dec_factor])"
   ]
  },
  {
   "cell_type": "code",
   "execution_count": 50,
   "id": "58b5d1c4-3c7e-4d68-949e-4fb2ba513af5",
   "metadata": {
    "tags": []
   },
   "outputs": [],
   "source": [
    "# Combine decimated data into one data array and one time array\n",
    "data_all = np.concatenate(data_list, axis=0)\n",
    "time_all = np.concatenate(time_list, axis=0)"
   ]
  },
  {
   "cell_type": "code",
   "execution_count": 51,
   "id": "b44e72be-b2da-425d-8f26-19a2adae05de",
   "metadata": {
    "tags": []
   },
   "outputs": [],
   "source": [
    "# Adjust sampling rates in attributes\n",
    "attrs = attrs_read.copy()\n",
    "attrs['PulseRate'] = attrs_read['PulseRate']/dec_factor\n",
    "attrs['MaximumFrequency'] = attrs_read['MaximumFrequency']/dec_factor"
   ]
  },
  {
   "cell_type": "markdown",
   "id": "464500ae-9677-4796-9616-439d10fee9b8",
   "metadata": {},
   "source": [
    "## Write DAS data to miniSEED\n",
    "The data is written into an obspy.Stream() and saved as a single miniSEED file. Note that the channel name of a single trace can only have three characters, but we have thousands of DAS channels. Therefore, the channel number is written into the stats.station attribute."
   ]
  },
  {
   "cell_type": "code",
   "execution_count": 52,
   "id": "3a1a0717-ba9d-47a3-9c6e-2545d2951566",
   "metadata": {
    "tags": []
   },
   "outputs": [],
   "source": [
    "# Write data into obspy Stream and save as miniSEED\n",
    "st = obspy.Stream()\n",
    "for i in range(data_all.shape[1]):\n",
    "    # st = obspy.Stream()\n",
    "    tr = obspy.Trace()\n",
    "    # set the stats\n",
    "    stats = obspy.core.trace.Stats()\n",
    "    stats.network = 'UW'\n",
    "    stats.station = '{:04d}'.format(i)\n",
    "    stats.location = ''\n",
    "    stats.channel = ''\n",
    "    stats.sampling_rate = attrs['PulseRate']\n",
    "    stats.npts = time_all.shape[0]\n",
    "    stats.starttime = obspy.UTCDateTime(datetime.datetime.utcfromtimestamp(time_all[0]/1e6))\n",
    "    stats.gauge_length = attrs['GaugeLength']\n",
    "    stats.spatial_sampling_interval = attrs['SpatialSamplingInterval']\n",
    "    # add data\n",
    "    tr.data = data_all[:,i]\n",
    "    tr.stats = stats\n",
    "    # append trace to stream\n",
    "    st.append(tr)\n",
    "st.sort()\n",
    "    \n",
    "filename = 'rainier_10Hz.mseed'\n",
    "savepath = os.path.join('../data/recordings/',filename)\n",
    "st.write(savepath, format=\"MSEED\")"
   ]
  },
  {
   "cell_type": "markdown",
   "id": "c828dd20-6735-42e2-8052-ff6faff8e9fc",
   "metadata": {},
   "source": [
    "## Now it's picking time\n",
    "Use the Snuffler tool from the pyrocko python package to pick the signals from Dominik and Manuela's car in in the DAS data. Take a look at the gpx track as a reference to find which car is the correct one."
   ]
  }
 ],
 "metadata": {
  "kernelspec": {
   "display_name": "Python 3 (ipykernel)",
   "language": "python",
   "name": "python3"
  },
  "language_info": {
   "codemirror_mode": {
    "name": "ipython",
    "version": 3
   },
   "file_extension": ".py",
   "mimetype": "text/x-python",
   "name": "python",
   "nbconvert_exporter": "python",
   "pygments_lexer": "ipython3",
   "version": "3.11.3"
  }
 },
 "nbformat": 4,
 "nbformat_minor": 5
}
